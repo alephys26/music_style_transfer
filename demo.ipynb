{
 "cells": [
  {
   "cell_type": "markdown",
   "metadata": {},
   "source": [
    "Please run this first cell before running any other cell."
   ]
  },
  {
   "cell_type": "code",
   "execution_count": null,
   "metadata": {
    "vscode": {
     "languageId": "plaintext"
    }
   },
   "outputs": [],
   "source": [
    "!pip install miditok"
   ]
  },
  {
   "cell_type": "markdown",
   "metadata": {},
   "source": [
    "## Data Pre-Processing\n",
    "Run the file *data_preprocessing.ipynb* if you want the dataloaders to be generated again. Else they have been provided with the code."
   ]
  },
  {
   "cell_type": "markdown",
   "metadata": {},
   "source": [
    "## Training"
   ]
  },
  {
   "cell_type": "markdown",
   "metadata": {},
   "source": [
    "The script *train.py* takes the following parameters:  \n",
    "- num_epochs: *int* default-50, the number of epochs the CycleGAN should be trained for.\n",
    "- log: *bool* default-True, the log of the run should be saved or not\n",
    "- save_model: *bool* default-True, the model should be saved or not\n",
    "- lr: *float* default-2e-4, the learning rate of the optimizers\n",
    "- lambda_cycle: *float* default-10.0, the regularisation parameter for Cycle loss \n",
    "- lambda_identity: *float* default-5.0, the regularisation parameter for Identity loss\n",
    "- name: *string* default-'experiment', the string or unique identifier of the run, is appended to name of log and model."
   ]
  },
  {
   "cell_type": "code",
   "execution_count": null,
   "metadata": {
    "vscode": {
     "languageId": "plaintext"
    }
   },
   "outputs": [],
   "source": [
    "!python train.py --num_epochs 10"
   ]
  },
  {
   "cell_type": "markdown",
   "metadata": {},
   "source": [
    "## Tuning\n",
    "Modify the dictionary inside the file *tune.py* to set the values of the hyperparameters.  "
   ]
  },
  {
   "cell_type": "code",
   "execution_count": null,
   "metadata": {
    "vscode": {
     "languageId": "plaintext"
    }
   },
   "outputs": [],
   "source": [
    "!python tune.py"
   ]
  },
  {
   "cell_type": "markdown",
   "metadata": {},
   "source": [
    "## Inference/Results\n",
    "Get the final classification accuracies, remember to change the name of the models and the dataloaders inside the file *infer.py* if you are using other than the ones given with the code."
   ]
  },
  {
   "cell_type": "code",
   "execution_count": null,
   "metadata": {
    "vscode": {
     "languageId": "plaintext"
    }
   },
   "outputs": [],
   "source": [
    "!python infer.py"
   ]
  }
 ],
 "metadata": {
  "language_info": {
   "name": "python"
  }
 },
 "nbformat": 4,
 "nbformat_minor": 2
}
